{
 "cells": [
  {
   "cell_type": "code",
   "execution_count": 1,
   "id": "46682dad-0e24-42b1-9238-0151a2f981d4",
   "metadata": {},
   "outputs": [],
   "source": [
    "import pandas as pd\n",
    "from datasets import load_dataset, Dataset\n",
    "import json\n",
    "# Step 1: Data Preparation\n",
    "# Load the dataset\n",
    "dataset = load_dataset(\"Kaludi/Customer-Support-Responses\")\n",
    "\n",
    "# Convert to pandas DataFrame for easier exploration\n",
    "df = dataset['train'].to_pandas()\n",
    "\n",
    "# Drop rows with missing values\n",
    "df.dropna(inplace=True)\n",
    "\n",
    "# Split the dataset into training and validation sets\n",
    "train_df = df.sample(frac=0.8, random_state=42)\n",
    "val_df = df.drop(train_df.index)\n",
    "\n",
    "# Convert back to Hugging Face datasets\n",
    "train_dataset = Dataset.from_pandas(train_df)\n",
    "val_dataset = Dataset.from_pandas(val_df)\n",
    "\n"
   ]
  },
  {
   "cell_type": "code",
   "execution_count": null,
   "id": "a82eb603-6253-42ca-947e-364c3d9fbe09",
   "metadata": {},
   "outputs": [],
   "source": [
    "print(df)"
   ]
  },
  {
   "cell_type": "code",
   "execution_count": null,
   "id": "56572f18-8b06-4ac6-a251-d1c1add436ec",
   "metadata": {},
   "outputs": [],
   "source": [
    "from transformers import AutoTokenizer, AutoModelForSeq2SeqLM, Trainer, TrainingArguments\n",
    "from datasets import Dataset\n",
    "\n",
    "# Initialize tokenizer and model\n",
    "tokenizer = AutoTokenizer.from_pretrained(\"Kaludi/chatgpt-gpt4-prompts-bart-large-cnn-samsum\")\n",
    "model = AutoModelForSeq2SeqLM.from_pretrained(\"Kaludi/chatgpt-gpt4-prompts-bart-large-cnn-samsum\")\n",
    "\n",
    "def tokenize_function(examples):\n",
    "    model_inputs = tokenizer(examples['query'], padding=\"max_length\", truncation=True, max_length=512)\n",
    "    with tokenizer.as_target_tokenizer():\n",
    "        labels = tokenizer(examples['response'], padding=\"max_length\", truncation=True, max_length=512)\n",
    "    model_inputs[\"labels\"] = labels[\"input_ids\"]\n",
    "    return model_inputs\n",
    "\n",
    "# Tokenize datasets\n",
    "train_dataset = train_dataset.map(tokenize_function, batched=True)\n",
    "val_dataset = val_dataset.map(tokenize_function, batched=True)\n",
    "\n",
    "# Set training arguments\n",
    "training_args = TrainingArguments(\n",
    "    output_dir=\"./results\",\n",
    "    evaluation_strategy=\"epoch\",\n",
    "    learning_rate=2e-5,\n",
    "    per_device_train_batch_size=8,\n",
    "    per_device_eval_batch_size=8,\n",
    "    num_train_epochs=8,\n",
    "    weight_decay=0.01,\n",
    ")\n",
    "\n",
    "# Initialize the Trainer\n",
    "trainer = Trainer(\n",
    "    model=model,\n",
    "    args=training_args,\n",
    "    train_dataset=train_dataset,\n",
    "    eval_dataset=val_dataset,\n",
    ")\n",
    "\n",
    "# Train the model\n",
    "trainer.train()\n"
   ]
  },
  {
   "cell_type": "code",
   "execution_count": null,
   "id": "20463e20-b796-4b0c-80c3-9f2e41a83032",
   "metadata": {},
   "outputs": [],
   "source": [
    "input_queries = [\n",
    "    \"I want to change my shipping address.\",\n",
    "    \"Do you have a recycling program?\",\n",
    "    # Add more queries as needed\n",
    "]\n",
    "\n",
    "# Tokenize input queries\n",
    "tokenized_inputs = tokenizer(input_queries, padding=\"max_length\", truncation=True, max_length=512, return_tensors=\"pt\")\n",
    "\n",
    "# Generate responses\n",
    "generated_outputs = model.generate(\n",
    "    input_ids=tokenized_inputs[\"input_ids\"],\n",
    "    attention_mask=tokenized_inputs[\"attention_mask\"],\n",
    "    max_length=50,  # Adjust as needed\n",
    "    num_beams=5,    # Adjust as needed\n",
    "    early_stopping=True\n",
    ")\n",
    "\n",
    "# Decode and print responses\n",
    "decoded_responses = tokenizer.batch_decode(generated_outputs, skip_special_tokens=True)\n",
    "for query, response in zip(input_queries, decoded_responses):\n",
    "    print(f\"Query: {query}\")\n",
    "    print(f\"Response: {response}\")\n",
    "    print()"
   ]
  },
  {
   "cell_type": "code",
   "execution_count": null,
   "id": "b7b02aea-5505-4aa8-874a-b3cf1b8cbfae",
   "metadata": {},
   "outputs": [],
   "source": []
  }
 ],
 "metadata": {
  "kernelspec": {
   "display_name": "Python 3 (ipykernel)",
   "language": "python",
   "name": "python3"
  },
  "language_info": {
   "codemirror_mode": {
    "name": "ipython",
    "version": 3
   },
   "file_extension": ".py",
   "mimetype": "text/x-python",
   "name": "python",
   "nbconvert_exporter": "python",
   "pygments_lexer": "ipython3",
   "version": "3.11.7"
  }
 },
 "nbformat": 4,
 "nbformat_minor": 5
}
